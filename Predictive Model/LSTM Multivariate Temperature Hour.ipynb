{
 "cells": [
  {
   "cell_type": "markdown",
   "metadata": {},
   "source": [
    "# Multivariate LSTM RNN - Indoor Temperature Prediction "
   ]
  },
  {
   "cell_type": "markdown",
   "metadata": {},
   "source": [
    "### Libraries"
   ]
  },
  {
   "cell_type": "code",
   "execution_count": 1,
   "metadata": {},
   "outputs": [
    {
     "name": "stderr",
     "output_type": "stream",
     "text": [
      "2024-04-01 21:32:03.664928: I tensorflow/core/util/port.cc:113] oneDNN custom operations are on. You may see slightly different numerical results due to floating-point round-off errors from different computation orders. To turn them off, set the environment variable `TF_ENABLE_ONEDNN_OPTS=0`.\n",
      "2024-04-01 21:32:03.666124: I external/local_tsl/tsl/cuda/cudart_stub.cc:31] Could not find cuda drivers on your machine, GPU will not be used.\n",
      "2024-04-01 21:32:03.684471: E external/local_xla/xla/stream_executor/cuda/cuda_dnn.cc:9261] Unable to register cuDNN factory: Attempting to register factory for plugin cuDNN when one has already been registered\n",
      "2024-04-01 21:32:03.684490: E external/local_xla/xla/stream_executor/cuda/cuda_fft.cc:607] Unable to register cuFFT factory: Attempting to register factory for plugin cuFFT when one has already been registered\n",
      "2024-04-01 21:32:03.685009: E external/local_xla/xla/stream_executor/cuda/cuda_blas.cc:1515] Unable to register cuBLAS factory: Attempting to register factory for plugin cuBLAS when one has already been registered\n",
      "2024-04-01 21:32:03.688079: I external/local_tsl/tsl/cuda/cudart_stub.cc:31] Could not find cuda drivers on your machine, GPU will not be used.\n",
      "2024-04-01 21:32:03.688613: I tensorflow/core/platform/cpu_feature_guard.cc:182] This TensorFlow binary is optimized to use available CPU instructions in performance-critical operations.\n",
      "To enable the following instructions: AVX2 AVX_VNNI FMA, in other operations, rebuild TensorFlow with the appropriate compiler flags.\n",
      "2024-04-01 21:32:04.079062: W tensorflow/compiler/tf2tensorrt/utils/py_utils.cc:38] TF-TRT Warning: Could not find TensorRT\n"
     ]
    }
   ],
   "source": [
    "import numpy as np\n",
    "import pandas as pd\n",
    "import matplotlib.pyplot as plt\n",
    "import seaborn as sns\n",
    "\n",
    "from tensorflow import keras\n",
    "from tensorflow.keras.models import Sequential\n",
    "from tensorflow.keras.layers import Dropout, Dense, LSTM\n",
    "from tensorflow.keras.optimizers import Adam\n",
    "\n",
    "from sklearn.preprocessing import StandardScaler"
   ]
  },
  {
   "cell_type": "markdown",
   "metadata": {},
   "source": [
    "### Importing Data"
   ]
  },
  {
   "cell_type": "code",
   "execution_count": 2,
   "metadata": {},
   "outputs": [],
   "source": [
    "df = pd.read_csv(\"/home/fraia/Arduino/Predictive Model/data_cl/home_data_cl_21_03.csv\")"
   ]
  },
  {
   "cell_type": "code",
   "execution_count": 3,
   "metadata": {},
   "outputs": [
    {
     "data": {
      "text/html": [
       "<div>\n",
       "<style scoped>\n",
       "    .dataframe tbody tr th:only-of-type {\n",
       "        vertical-align: middle;\n",
       "    }\n",
       "\n",
       "    .dataframe tbody tr th {\n",
       "        vertical-align: top;\n",
       "    }\n",
       "\n",
       "    .dataframe thead th {\n",
       "        text-align: right;\n",
       "    }\n",
       "</style>\n",
       "<table border=\"1\" class=\"dataframe\">\n",
       "  <thead>\n",
       "    <tr style=\"text-align: right;\">\n",
       "      <th></th>\n",
       "      <th>Unnamed: 0</th>\n",
       "      <th>id</th>\n",
       "      <th>timestamp</th>\n",
       "      <th>sense_hum</th>\n",
       "      <th>sense_temp</th>\n",
       "      <th>open_hum</th>\n",
       "      <th>open_temp</th>\n",
       "      <th>pressure</th>\n",
       "      <th>water_temp</th>\n",
       "    </tr>\n",
       "  </thead>\n",
       "  <tbody>\n",
       "    <tr>\n",
       "      <th>0</th>\n",
       "      <td>3</td>\n",
       "      <td>4</td>\n",
       "      <td>2024-02-21 09:24:31</td>\n",
       "      <td>40.8</td>\n",
       "      <td>21.9</td>\n",
       "      <td>70.0</td>\n",
       "      <td>6.74</td>\n",
       "      <td>1027.0</td>\n",
       "      <td>30.0</td>\n",
       "    </tr>\n",
       "    <tr>\n",
       "      <th>1</th>\n",
       "      <td>4</td>\n",
       "      <td>5</td>\n",
       "      <td>2024-02-21 09:29:39</td>\n",
       "      <td>41.5</td>\n",
       "      <td>21.7</td>\n",
       "      <td>71.0</td>\n",
       "      <td>6.81</td>\n",
       "      <td>1028.0</td>\n",
       "      <td>30.0</td>\n",
       "    </tr>\n",
       "    <tr>\n",
       "      <th>2</th>\n",
       "      <td>5</td>\n",
       "      <td>6</td>\n",
       "      <td>2024-02-21 09:34:45</td>\n",
       "      <td>41.8</td>\n",
       "      <td>21.6</td>\n",
       "      <td>68.0</td>\n",
       "      <td>7.30</td>\n",
       "      <td>1028.0</td>\n",
       "      <td>30.0</td>\n",
       "    </tr>\n",
       "    <tr>\n",
       "      <th>3</th>\n",
       "      <td>6</td>\n",
       "      <td>6</td>\n",
       "      <td>2024-02-21 09:34:45</td>\n",
       "      <td>41.8</td>\n",
       "      <td>21.6</td>\n",
       "      <td>68.0</td>\n",
       "      <td>7.30</td>\n",
       "      <td>1028.0</td>\n",
       "      <td>29.0</td>\n",
       "    </tr>\n",
       "    <tr>\n",
       "      <th>4</th>\n",
       "      <td>7</td>\n",
       "      <td>7</td>\n",
       "      <td>2024-02-21 09:39:52</td>\n",
       "      <td>42.0</td>\n",
       "      <td>21.6</td>\n",
       "      <td>68.0</td>\n",
       "      <td>7.30</td>\n",
       "      <td>1028.0</td>\n",
       "      <td>29.0</td>\n",
       "    </tr>\n",
       "    <tr>\n",
       "      <th>...</th>\n",
       "      <td>...</td>\n",
       "      <td>...</td>\n",
       "      <td>...</td>\n",
       "      <td>...</td>\n",
       "      <td>...</td>\n",
       "      <td>...</td>\n",
       "      <td>...</td>\n",
       "      <td>...</td>\n",
       "      <td>...</td>\n",
       "    </tr>\n",
       "    <tr>\n",
       "      <th>3888</th>\n",
       "      <td>3891</td>\n",
       "      <td>3448</td>\n",
       "      <td>2024-03-05 07:18:29</td>\n",
       "      <td>38.0</td>\n",
       "      <td>22.1</td>\n",
       "      <td>67.0</td>\n",
       "      <td>5.56</td>\n",
       "      <td>1022.0</td>\n",
       "      <td>30.0</td>\n",
       "    </tr>\n",
       "    <tr>\n",
       "      <th>3889</th>\n",
       "      <td>3892</td>\n",
       "      <td>3449</td>\n",
       "      <td>2024-03-05 07:23:35</td>\n",
       "      <td>38.1</td>\n",
       "      <td>22.1</td>\n",
       "      <td>67.0</td>\n",
       "      <td>5.56</td>\n",
       "      <td>1022.0</td>\n",
       "      <td>30.0</td>\n",
       "    </tr>\n",
       "    <tr>\n",
       "      <th>3890</th>\n",
       "      <td>3893</td>\n",
       "      <td>3450</td>\n",
       "      <td>2024-03-05 07:28:42</td>\n",
       "      <td>38.0</td>\n",
       "      <td>22.0</td>\n",
       "      <td>67.0</td>\n",
       "      <td>5.56</td>\n",
       "      <td>1022.0</td>\n",
       "      <td>30.0</td>\n",
       "    </tr>\n",
       "    <tr>\n",
       "      <th>3891</th>\n",
       "      <td>3894</td>\n",
       "      <td>3451</td>\n",
       "      <td>2024-03-05 07:33:48</td>\n",
       "      <td>38.0</td>\n",
       "      <td>22.1</td>\n",
       "      <td>66.0</td>\n",
       "      <td>5.58</td>\n",
       "      <td>1022.0</td>\n",
       "      <td>30.0</td>\n",
       "    </tr>\n",
       "    <tr>\n",
       "      <th>3892</th>\n",
       "      <td>3895</td>\n",
       "      <td>3452</td>\n",
       "      <td>2024-03-05 07:38:55</td>\n",
       "      <td>38.1</td>\n",
       "      <td>22.1</td>\n",
       "      <td>66.0</td>\n",
       "      <td>5.64</td>\n",
       "      <td>1022.0</td>\n",
       "      <td>30.0</td>\n",
       "    </tr>\n",
       "  </tbody>\n",
       "</table>\n",
       "<p>3893 rows × 9 columns</p>\n",
       "</div>"
      ],
      "text/plain": [
       "      Unnamed: 0    id            timestamp  sense_hum  sense_temp  open_hum  \\\n",
       "0              3     4  2024-02-21 09:24:31       40.8        21.9      70.0   \n",
       "1              4     5  2024-02-21 09:29:39       41.5        21.7      71.0   \n",
       "2              5     6  2024-02-21 09:34:45       41.8        21.6      68.0   \n",
       "3              6     6  2024-02-21 09:34:45       41.8        21.6      68.0   \n",
       "4              7     7  2024-02-21 09:39:52       42.0        21.6      68.0   \n",
       "...          ...   ...                  ...        ...         ...       ...   \n",
       "3888        3891  3448  2024-03-05 07:18:29       38.0        22.1      67.0   \n",
       "3889        3892  3449  2024-03-05 07:23:35       38.1        22.1      67.0   \n",
       "3890        3893  3450  2024-03-05 07:28:42       38.0        22.0      67.0   \n",
       "3891        3894  3451  2024-03-05 07:33:48       38.0        22.1      66.0   \n",
       "3892        3895  3452  2024-03-05 07:38:55       38.1        22.1      66.0   \n",
       "\n",
       "      open_temp  pressure  water_temp  \n",
       "0          6.74    1027.0        30.0  \n",
       "1          6.81    1028.0        30.0  \n",
       "2          7.30    1028.0        30.0  \n",
       "3          7.30    1028.0        29.0  \n",
       "4          7.30    1028.0        29.0  \n",
       "...         ...       ...         ...  \n",
       "3888       5.56    1022.0        30.0  \n",
       "3889       5.56    1022.0        30.0  \n",
       "3890       5.56    1022.0        30.0  \n",
       "3891       5.58    1022.0        30.0  \n",
       "3892       5.64    1022.0        30.0  \n",
       "\n",
       "[3893 rows x 9 columns]"
      ]
     },
     "execution_count": 3,
     "metadata": {},
     "output_type": "execute_result"
    }
   ],
   "source": [
    "df"
   ]
  },
  {
   "cell_type": "code",
   "execution_count": 4,
   "metadata": {},
   "outputs": [
    {
     "name": "stdout",
     "output_type": "stream",
     "text": [
      "<class 'pandas.core.frame.DataFrame'>\n",
      "RangeIndex: 3893 entries, 0 to 3892\n",
      "Data columns (total 9 columns):\n",
      " #   Column      Non-Null Count  Dtype  \n",
      "---  ------      --------------  -----  \n",
      " 0   Unnamed: 0  3893 non-null   int64  \n",
      " 1   id          3893 non-null   int64  \n",
      " 2   timestamp   3893 non-null   object \n",
      " 3   sense_hum   3893 non-null   float64\n",
      " 4   sense_temp  3893 non-null   float64\n",
      " 5   open_hum    3893 non-null   float64\n",
      " 6   open_temp   3893 non-null   float64\n",
      " 7   pressure    3893 non-null   float64\n",
      " 8   water_temp  3893 non-null   float64\n",
      "dtypes: float64(6), int64(2), object(1)\n",
      "memory usage: 273.9+ KB\n"
     ]
    }
   ],
   "source": [
    "df.info()"
   ]
  },
  {
   "cell_type": "code",
   "execution_count": 5,
   "metadata": {},
   "outputs": [],
   "source": [
    "#rearange column order so that sense_temp (target variable) is at the beginning of the other relevant features\n",
    "df = df[[\"id\", \"timestamp\", \"sense_temp\", \"sense_hum\", \"open_hum\", \"open_temp\", \"pressure\", \"water_temp\"]]"
   ]
  },
  {
   "cell_type": "markdown",
   "metadata": {},
   "source": [
    "### Data Exploration"
   ]
  },
  {
   "cell_type": "code",
   "execution_count": 6,
   "metadata": {},
   "outputs": [
    {
     "name": "stderr",
     "output_type": "stream",
     "text": [
      "/tmp/ipykernel_19839/2525917120.py:2: SettingWithCopyWarning: \n",
      "A value is trying to be set on a copy of a slice from a DataFrame.\n",
      "Try using .loc[row_indexer,col_indexer] = value instead\n",
      "\n",
      "See the caveats in the documentation: https://pandas.pydata.org/pandas-docs/stable/user_guide/indexing.html#returning-a-view-versus-a-copy\n",
      "  df[\"timestamp\"] = pd.to_datetime(df[\"timestamp\"])\n"
     ]
    }
   ],
   "source": [
    "#convert to timestamp to DateTime object \n",
    "df[\"timestamp\"] = pd.to_datetime(df[\"timestamp\"])"
   ]
  },
  {
   "cell_type": "code",
   "execution_count": 7,
   "metadata": {},
   "outputs": [
    {
     "data": {
      "text/plain": [
       "id            0\n",
       "timestamp     0\n",
       "sense_temp    0\n",
       "sense_hum     0\n",
       "open_hum      0\n",
       "open_temp     0\n",
       "pressure      0\n",
       "water_temp    0\n",
       "dtype: int64"
      ]
     },
     "execution_count": 7,
     "metadata": {},
     "output_type": "execute_result"
    }
   ],
   "source": [
    "df.isna().sum()"
   ]
  },
  {
   "cell_type": "code",
   "execution_count": 8,
   "metadata": {},
   "outputs": [
    {
     "name": "stderr",
     "output_type": "stream",
     "text": [
      "/tmp/ipykernel_19839/3006716147.py:1: SettingWithCopyWarning: \n",
      "A value is trying to be set on a copy of a slice from a DataFrame\n",
      "\n",
      "See the caveats in the documentation: https://pandas.pydata.org/pandas-docs/stable/user_guide/indexing.html#returning-a-view-versus-a-copy\n",
      "  df.drop_duplicates(inplace=True)\n"
     ]
    }
   ],
   "source": [
    "df.drop_duplicates(inplace=True)"
   ]
  },
  {
   "cell_type": "code",
   "execution_count": 9,
   "metadata": {},
   "outputs": [
    {
     "data": {
      "text/plain": [
       "0"
      ]
     },
     "execution_count": 9,
     "metadata": {},
     "output_type": "execute_result"
    }
   ],
   "source": [
    "df.duplicated().sum()"
   ]
  },
  {
   "cell_type": "code",
   "execution_count": 10,
   "metadata": {},
   "outputs": [
    {
     "data": {
      "text/html": [
       "<div>\n",
       "<style scoped>\n",
       "    .dataframe tbody tr th:only-of-type {\n",
       "        vertical-align: middle;\n",
       "    }\n",
       "\n",
       "    .dataframe tbody tr th {\n",
       "        vertical-align: top;\n",
       "    }\n",
       "\n",
       "    .dataframe thead th {\n",
       "        text-align: right;\n",
       "    }\n",
       "</style>\n",
       "<table border=\"1\" class=\"dataframe\">\n",
       "  <thead>\n",
       "    <tr style=\"text-align: right;\">\n",
       "      <th></th>\n",
       "      <th>sense_temp</th>\n",
       "      <th>water_temp</th>\n",
       "      <th>sense_hum</th>\n",
       "      <th>open_temp</th>\n",
       "      <th>open_hum</th>\n",
       "      <th>pressure</th>\n",
       "    </tr>\n",
       "    <tr>\n",
       "      <th>timestamp</th>\n",
       "      <th></th>\n",
       "      <th></th>\n",
       "      <th></th>\n",
       "      <th></th>\n",
       "      <th></th>\n",
       "      <th></th>\n",
       "    </tr>\n",
       "  </thead>\n",
       "  <tbody>\n",
       "    <tr>\n",
       "      <th>2024-02-21 09:24:31</th>\n",
       "      <td>21.9</td>\n",
       "      <td>30.0</td>\n",
       "      <td>40.8</td>\n",
       "      <td>6.74</td>\n",
       "      <td>70.0</td>\n",
       "      <td>1027.0</td>\n",
       "    </tr>\n",
       "    <tr>\n",
       "      <th>2024-02-21 09:50:24</th>\n",
       "      <td>21.6</td>\n",
       "      <td>28.0</td>\n",
       "      <td>41.6</td>\n",
       "      <td>7.30</td>\n",
       "      <td>68.0</td>\n",
       "      <td>1028.0</td>\n",
       "    </tr>\n",
       "    <tr>\n",
       "      <th>2024-02-21 10:21:54</th>\n",
       "      <td>21.7</td>\n",
       "      <td>27.0</td>\n",
       "      <td>41.5</td>\n",
       "      <td>8.89</td>\n",
       "      <td>65.0</td>\n",
       "      <td>1028.0</td>\n",
       "    </tr>\n",
       "    <tr>\n",
       "      <th>2024-02-21 10:52:40</th>\n",
       "      <td>21.7</td>\n",
       "      <td>26.0</td>\n",
       "      <td>41.4</td>\n",
       "      <td>9.80</td>\n",
       "      <td>64.0</td>\n",
       "      <td>1028.0</td>\n",
       "    </tr>\n",
       "    <tr>\n",
       "      <th>2024-02-21 11:18:14</th>\n",
       "      <td>21.8</td>\n",
       "      <td>25.0</td>\n",
       "      <td>41.4</td>\n",
       "      <td>10.47</td>\n",
       "      <td>62.0</td>\n",
       "      <td>1027.0</td>\n",
       "    </tr>\n",
       "    <tr>\n",
       "      <th>...</th>\n",
       "      <td>...</td>\n",
       "      <td>...</td>\n",
       "      <td>...</td>\n",
       "      <td>...</td>\n",
       "      <td>...</td>\n",
       "      <td>...</td>\n",
       "    </tr>\n",
       "    <tr>\n",
       "      <th>2024-03-05 05:10:48</th>\n",
       "      <td>21.9</td>\n",
       "      <td>30.0</td>\n",
       "      <td>38.5</td>\n",
       "      <td>5.91</td>\n",
       "      <td>70.0</td>\n",
       "      <td>1021.0</td>\n",
       "    </tr>\n",
       "    <tr>\n",
       "      <th>2024-03-05 05:41:27</th>\n",
       "      <td>22.0</td>\n",
       "      <td>30.0</td>\n",
       "      <td>38.4</td>\n",
       "      <td>5.97</td>\n",
       "      <td>70.0</td>\n",
       "      <td>1021.0</td>\n",
       "    </tr>\n",
       "    <tr>\n",
       "      <th>2024-03-05 06:12:06</th>\n",
       "      <td>22.1</td>\n",
       "      <td>30.5</td>\n",
       "      <td>38.1</td>\n",
       "      <td>6.04</td>\n",
       "      <td>70.0</td>\n",
       "      <td>1021.0</td>\n",
       "    </tr>\n",
       "    <tr>\n",
       "      <th>2024-03-05 06:42:44</th>\n",
       "      <td>22.1</td>\n",
       "      <td>30.0</td>\n",
       "      <td>38.1</td>\n",
       "      <td>5.72</td>\n",
       "      <td>71.0</td>\n",
       "      <td>1021.0</td>\n",
       "    </tr>\n",
       "    <tr>\n",
       "      <th>2024-03-05 07:13:23</th>\n",
       "      <td>22.1</td>\n",
       "      <td>30.0</td>\n",
       "      <td>38.1</td>\n",
       "      <td>5.57</td>\n",
       "      <td>69.0</td>\n",
       "      <td>1022.0</td>\n",
       "    </tr>\n",
       "  </tbody>\n",
       "</table>\n",
       "<p>612 rows × 6 columns</p>\n",
       "</div>"
      ],
      "text/plain": [
       "                     sense_temp  water_temp  sense_hum  open_temp  open_hum  \\\n",
       "timestamp                                                                     \n",
       "2024-02-21 09:24:31        21.9        30.0       40.8       6.74      70.0   \n",
       "2024-02-21 09:50:24        21.6        28.0       41.6       7.30      68.0   \n",
       "2024-02-21 10:21:54        21.7        27.0       41.5       8.89      65.0   \n",
       "2024-02-21 10:52:40        21.7        26.0       41.4       9.80      64.0   \n",
       "2024-02-21 11:18:14        21.8        25.0       41.4      10.47      62.0   \n",
       "...                         ...         ...        ...        ...       ...   \n",
       "2024-03-05 05:10:48        21.9        30.0       38.5       5.91      70.0   \n",
       "2024-03-05 05:41:27        22.0        30.0       38.4       5.97      70.0   \n",
       "2024-03-05 06:12:06        22.1        30.5       38.1       6.04      70.0   \n",
       "2024-03-05 06:42:44        22.1        30.0       38.1       5.72      71.0   \n",
       "2024-03-05 07:13:23        22.1        30.0       38.1       5.57      69.0   \n",
       "\n",
       "                     pressure  \n",
       "timestamp                      \n",
       "2024-02-21 09:24:31    1027.0  \n",
       "2024-02-21 09:50:24    1028.0  \n",
       "2024-02-21 10:21:54    1028.0  \n",
       "2024-02-21 10:52:40    1028.0  \n",
       "2024-02-21 11:18:14    1027.0  \n",
       "...                       ...  \n",
       "2024-03-05 05:10:48    1021.0  \n",
       "2024-03-05 05:41:27    1021.0  \n",
       "2024-03-05 06:12:06    1021.0  \n",
       "2024-03-05 06:42:44    1021.0  \n",
       "2024-03-05 07:13:23    1022.0  \n",
       "\n",
       "[612 rows x 6 columns]"
      ]
     },
     "execution_count": 10,
     "metadata": {},
     "output_type": "execute_result"
    }
   ],
   "source": [
    "df_cl = df\n",
    "\n",
    "# Undersample df -> each interval of 30min \n",
    "df_cl = df_cl[::6]\n",
    "\n",
    "# Reorder columns\n",
    "df_cl = df_cl[['timestamp','sense_temp','water_temp','sense_hum', 'open_temp', 'open_hum', 'pressure']]\n",
    "\n",
    "#set timestamp as index\n",
    "df_cl = df_cl.set_index('timestamp')\n",
    "\n",
    "df_cl"
   ]
  },
  {
   "cell_type": "code",
   "execution_count": 11,
   "metadata": {},
   "outputs": [],
   "source": [
    "# Rolling window - smoothing data\n",
    "df_rolled = df_cl.rolling(window = 20).mean().dropna()"
   ]
  },
  {
   "cell_type": "code",
   "execution_count": 12,
   "metadata": {},
   "outputs": [
    {
     "data": {
      "image/png": "[encoded data removed]",
      "text/plain": [
       "<Figure size 1500x1500 with 6 Axes>"
      ]
     },
     "metadata": {},
     "output_type": "display_data"
    }
   ],
   "source": [
    "from matplotlib.colors import ListedColormap\n",
    "import matplotlib.pyplot as plt\n",
    "\n",
    "# Custom color palette\n",
    "colors = [\"#284b63\", \"#461220\", \"#fb8500\", \"#003566\",\n",
    "           \"#8ecae6\", \"#031926\", \"#468189\", \"#77aca2\",\n",
    "           \"#fee440\"]\n",
    "# Create a custom color map\n",
    "cmap = ListedColormap(colors)\n",
    "\n",
    "# Plot using the custom color map\n",
    "df_rolled.plot(subplots=True, figsize=(15, 15), colormap=cmap)\n",
    "\n",
    "plt.show()"
   ]
  },
  {
   "cell_type": "markdown",
   "metadata": {},
   "source": [
    "### Feature Extraction"
   ]
  },
  {
   "cell_type": "code",
   "execution_count": 13,
   "metadata": {},
   "outputs": [],
   "source": [
    "# Adding new varaibles , namely an interaction between water_temp and sense_temp and a log transformation of water_temp\n",
    "df_rolled[\"water_temp_log\"] = np.log(df_rolled[\"water_temp\"])\n",
    "df_rolled[\"st_wt\"] = df_rolled[\"sense_temp\"] * df_rolled[\"water_temp\"]"
   ]
  },
  {
   "cell_type": "code",
   "execution_count": 14,
   "metadata": {},
   "outputs": [],
   "source": [
    "# Remove irrelevant features apply differencing for trend removal\n",
    "df_rolled_rel = df_rolled.drop(columns=[\"pressure\"]) \n",
    "df_diff = df_rolled_rel.diff().dropna()"
   ]
  },
  {
   "cell_type": "code",
   "execution_count": 15,
   "metadata": {},
   "outputs": [
    {
     "name": "stdout",
     "output_type": "stream",
     "text": [
      "sense_temp\n",
      "ADF Statistic: -9.266290\n",
      "p-value: 0.000000\n",
      "\n",
      "\n",
      "water_temp\n",
      "ADF Statistic: -10.115496\n",
      "p-value: 0.000000\n",
      "\n",
      "\n",
      "sense_hum\n",
      "ADF Statistic: -6.199781\n",
      "p-value: 0.000000\n",
      "\n",
      "\n",
      "open_temp\n",
      "ADF Statistic: -7.848404\n",
      "p-value: 0.000000\n",
      "\n",
      "\n",
      "open_hum\n",
      "ADF Statistic: -7.265994\n",
      "p-value: 0.000000\n",
      "\n",
      "\n",
      "water_temp_log\n",
      "ADF Statistic: -9.799469\n",
      "p-value: 0.000000\n",
      "\n",
      "\n",
      "st_wt\n",
      "ADF Statistic: -10.055111\n",
      "p-value: 0.000000\n",
      "\n",
      "\n"
     ]
    },
    {
     "name": "stderr",
     "output_type": "stream",
     "text": [
      "Feature Extraction: 100%|██████████| 60/60 [00:09<00:00,  6.59it/s]\n"
     ]
    }
   ],
   "source": [
    "from feature_selection import check_stationarity, scaling, feat_extraction, feat_selection\n",
    "\n",
    "df_stationar = check_stationarity(df_diff)\n",
    "df_scaled, scaler = scaling(df_stationar)\n",
    "X, y= feat_extraction(df_scaled, target_col=\"sense_temp\")\n",
    "df_selection = feat_selection(X, y)\n",
    "\n",
    "#set index again to timestamp -> it was reset for the feature extraction process\n",
    "df_scaled = df_scaled.set_index(\"timestamp\")"
   ]
  },
  {
   "cell_type": "markdown",
   "metadata": {},
   "source": [
    "### Feature Selection"
   ]
  },
  {
   "cell_type": "code",
   "execution_count": 16,
   "metadata": {},
   "outputs": [
    {
     "data": {
      "text/plain": [
       "'\\n# set up our regressor. Today we shall be using the random forest\\nfrom sklearn.ensemble import RandomForestRegressor\\nregressor = RandomForestRegressor(n_estimators=100, max_depth=10)\\n\\n# perform a scikit-learn Recursive Feature Elimination (RFE)\\nfrom sklearn.feature_selection import RFE\\n\\n# here we want only one final feature, we do this to produce a ranking\\nn_features_to_select = 15\\nrfe = RFE(regressor, n_features_to_select=n_features_to_select)\\nrfe.fit(X, y)'"
      ]
     },
     "execution_count": 16,
     "metadata": {},
     "output_type": "execute_result"
    }
   ],
   "source": [
    "\"\"\"\n",
    "# set up our regressor. Today we shall be using the random forest\n",
    "from sklearn.ensemble import RandomForestRegressor\n",
    "regressor = RandomForestRegressor(n_estimators=100, max_depth=10)\n",
    "\n",
    "# perform a scikit-learn Recursive Feature Elimination (RFE)\n",
    "from sklearn.feature_selection import RFE\n",
    "\n",
    "# here we want only one final feature, we do this to produce a ranking\n",
    "n_features_to_select = 15\n",
    "rfe = RFE(regressor, n_features_to_select=n_features_to_select)\n",
    "rfe.fit(X, y)\"\"\""
   ]
  },
  {
   "cell_type": "code",
   "execution_count": 17,
   "metadata": {},
   "outputs": [
    {
     "data": {
      "text/plain": [
       "'\\nfrom operator import itemgetter\\nfeatures = X.columns.to_list()\\nfor x_rf, y_rf in (sorted(zip(rfe.ranking_ , features), key=itemgetter(0))):\\n    print(x_rf, y_rf)\\n'"
      ]
     },
     "execution_count": 17,
     "metadata": {},
     "output_type": "execute_result"
    }
   ],
   "source": [
    "\"\"\"\n",
    "from operator import itemgetter\n",
    "features = X.columns.to_list()\n",
    "for x_rf, y_rf in (sorted(zip(rfe.ranking_ , features), key=itemgetter(0))):\n",
    "    print(x_rf, y_rf)\n",
    "\"\"\""
   ]
  },
  {
   "cell_type": "code",
   "execution_count": 18,
   "metadata": {},
   "outputs": [
    {
     "data": {
      "text/plain": [
       "'\\nfrom operator import itemgetter\\nselected = []\\nfeatures = X.columns.to_list()\\ntop_15_features = [x_rf[1] for x_rf in sorted(zip(rfe.ranking_ , features), key=itemgetter(0))]\\nprint(top_15_features)'"
      ]
     },
     "execution_count": 18,
     "metadata": {},
     "output_type": "execute_result"
    }
   ],
   "source": [
    "\"\"\"\n",
    "from operator import itemgetter\n",
    "selected = []\n",
    "features = X.columns.to_list()\n",
    "top_15_features = [x_rf[1] for x_rf in sorted(zip(rfe.ranking_ , features), key=itemgetter(0))]\n",
    "print(top_15_features)\"\"\""
   ]
  },
  {
   "cell_type": "code",
   "execution_count": 19,
   "metadata": {},
   "outputs": [
    {
     "data": {
      "text/plain": [
       "'\\nfrom operator import itemgetter\\n\\nselected = []\\nfeatures = X.columns.to_list()\\ntop_features = [x_rf[1] for x_rf in sorted(zip(rfe.ranking_ , features), key=itemgetter(0))]\\n\\nfor feature in top_features:\\n    prefix = \"_\".join(feature.split(\"_\")[:2])  # Extracting the first two strings\\n    if not any(prefix in s for s in selected):  # Checking if prefix already exists in selected\\n        selected.append(feature)\\n\\nprint(selected)\\n'"
      ]
     },
     "execution_count": 19,
     "metadata": {},
     "output_type": "execute_result"
    }
   ],
   "source": [
    "\"\"\"\n",
    "from operator import itemgetter\n",
    "\n",
    "selected = []\n",
    "features = X.columns.to_list()\n",
    "top_features = [x_rf[1] for x_rf in sorted(zip(rfe.ranking_ , features), key=itemgetter(0))]\n",
    "\n",
    "for feature in top_features:\n",
    "    prefix = \"_\".join(feature.split(\"_\")[:2])  # Extracting the first two strings\n",
    "    if not any(prefix in s for s in selected):  # Checking if prefix already exists in selected\n",
    "        selected.append(feature)\n",
    "\n",
    "print(selected)\n",
    "\"\"\""
   ]
  },
  {
   "cell_type": "code",
   "execution_count": 20,
   "metadata": {},
   "outputs": [
    {
     "data": {
      "text/plain": [
       "'top_df = pd.concat([y, X[\"open_temp__sum_values\"],X[\\'sense_hum__quantile__q_0.8\\'], df_scaled[\"water_temp_log\"], df_scaled[\"st_wt\"], df_scaled[\"water_temp\"]], axis=1)'"
      ]
     },
     "execution_count": 20,
     "metadata": {},
     "output_type": "execute_result"
    }
   ],
   "source": [
    "\"\"\"top_df = pd.concat([y, X[\"open_temp__sum_values\"],X['sense_hum__quantile__q_0.8'], df_scaled[\"water_temp_log\"], df_scaled[\"st_wt\"], df_scaled[\"water_temp\"]], axis=1)\"\"\""
   ]
  },
  {
   "cell_type": "code",
   "execution_count": 21,
   "metadata": {},
   "outputs": [
    {
     "data": {
      "text/plain": [
       "\"\\ncorrelation = top_df.corr()\\nsns.heatmap(correlation, annot=True, cmap=sns.color_palette('ch:s=.25,rot=-.25', as_cmap=True))\\n\""
      ]
     },
     "execution_count": 21,
     "metadata": {},
     "output_type": "execute_result"
    }
   ],
   "source": [
    "\"\"\"\n",
    "correlation = top_df.corr()\n",
    "sns.heatmap(correlation, annot=True, cmap=sns.color_palette('ch:s=.25,rot=-.25', as_cmap=True))\n",
    "\"\"\""
   ]
  },
  {
   "cell_type": "code",
   "execution_count": 22,
   "metadata": {},
   "outputs": [
    {
     "data": {
      "text/plain": [
       "'\\n#variables causing multicollinearity will be dropped\\ncorrelated = [\"st_wt__root_mean_square\"]\\ntop_df = top_df.drop(columns=correlated)\\n\\n'"
      ]
     },
     "execution_count": 22,
     "metadata": {},
     "output_type": "execute_result"
    }
   ],
   "source": [
    "\"\"\"\n",
    "#variables causing multicollinearity will be dropped\n",
    "correlated = [\"st_wt__root_mean_square\"]\n",
    "top_df = top_df.drop(columns=correlated)\n",
    "\n",
    "\"\"\""
   ]
  },
  {
   "cell_type": "markdown",
   "metadata": {},
   "source": [
    "### Granger Causality Test"
   ]
  },
  {
   "cell_type": "code",
   "execution_count": 23,
   "metadata": {},
   "outputs": [
    {
     "data": {
      "text/plain": [
       "'\\nfrom statsmodels.tsa.stattools import coint\\nt_statistics, p_val, critical_p_val = coint(top_df[\"sense_temp\"], top_df[\"water_temp\"])\\nprint(f\"t-statistics: {np.round(t_statistics, 2)} \\np_value: {np.round(p_val, 2)} \\ncritical p-values [10%, 5%, 1%]: {np.round(critical_p_val, 2)}\")\\n'"
      ]
     },
     "execution_count": 23,
     "metadata": {},
     "output_type": "execute_result"
    }
   ],
   "source": [
    "\"\"\"\n",
    "from statsmodels.tsa.stattools import coint\n",
    "t_statistics, p_val, critical_p_val = coint(top_df[\"sense_temp\"], top_df[\"water_temp\"])\n",
    "print(f\"t-statistics: {np.round(t_statistics, 2)} \\np_value: {np.round(p_val, 2)} \\ncritical p-values [10%, 5%, 1%]: {np.round(critical_p_val, 2)}\")\n",
    "\"\"\""
   ]
  },
  {
   "cell_type": "code",
   "execution_count": 24,
   "metadata": {},
   "outputs": [
    {
     "data": {
      "text/plain": [
       "'\\nfrom statsmodels.tsa.stattools import grangercausalitytests\\nwater_col = [\"sense_temp\"]\\ndf_temp_wat = pd.concat([df_scaled[water_col], X[\"water_temp__abs_energy\"]], axis= 1)\\ngrangercausalitytests(df_temp_wat, 10, verbose = True)'"
      ]
     },
     "execution_count": 24,
     "metadata": {},
     "output_type": "execute_result"
    }
   ],
   "source": [
    "\"\"\"\n",
    "from statsmodels.tsa.stattools import grangercausalitytests\n",
    "water_col = [\"sense_temp\"]\n",
    "df_temp_wat = pd.concat([df_scaled[water_col], X[\"water_temp__abs_energy\"]], axis= 1)\n",
    "grangercausalitytests(df_temp_wat, 10, verbose = True)\"\"\""
   ]
  },
  {
   "cell_type": "code",
   "execution_count": 25,
   "metadata": {},
   "outputs": [
    {
     "data": {
      "text/plain": [
       "'\\nfrom statsmodels.tsa.stattools import grangercausalitytests\\nwater_col = [\"sense_temp\", \"water_temp_log\"]\\ndf_temp_wat = df_scaled[water_col]\\ngrangercausalitytests(df_temp_wat, 10, verbose = True)\\n'"
      ]
     },
     "execution_count": 25,
     "metadata": {},
     "output_type": "execute_result"
    }
   ],
   "source": [
    "\"\"\"\n",
    "from statsmodels.tsa.stattools import grangercausalitytests\n",
    "water_col = [\"sense_temp\", \"water_temp_log\"]\n",
    "df_temp_wat = df_scaled[water_col]\n",
    "grangercausalitytests(df_temp_wat, 10, verbose = True)\n",
    "\"\"\""
   ]
  },
  {
   "cell_type": "code",
   "execution_count": 26,
   "metadata": {},
   "outputs": [
    {
     "data": {
      "text/plain": [
       "'\\nfrom statsmodels.tsa.stattools import grangercausalitytests\\not_col = [\"sense_temp\", \"open_temp__median\"]\\ndf_temp_ot = top_df[ot_col]\\ngrangercausalitytests(df_temp_ot, 10, verbose = True)\\n'"
      ]
     },
     "execution_count": 26,
     "metadata": {},
     "output_type": "execute_result"
    }
   ],
   "source": [
    "\"\"\"\n",
    "from statsmodels.tsa.stattools import grangercausalitytests\n",
    "ot_col = [\"sense_temp\", \"open_temp__median\"]\n",
    "df_temp_ot = top_df[ot_col]\n",
    "grangercausalitytests(df_temp_ot, 10, verbose = True)\n",
    "\"\"\""
   ]
  },
  {
   "cell_type": "code",
   "execution_count": 27,
   "metadata": {},
   "outputs": [
    {
     "data": {
      "text/plain": [
       "'\\nfrom statsmodels.tsa.stattools import grangercausalitytests\\nst_wt_col = [\"sense_temp\", \\'st_wt__absolute_maximum\\']\\ndf_temp_st_wt = top_df[st_wt_col]\\ngrangercausalitytests(df_temp_st_wt, 10, verbose = True)\\n'"
      ]
     },
     "execution_count": 27,
     "metadata": {},
     "output_type": "execute_result"
    }
   ],
   "source": [
    "\"\"\"\n",
    "from statsmodels.tsa.stattools import grangercausalitytests\n",
    "st_wt_col = [\"sense_temp\", 'st_wt__absolute_maximum']\n",
    "df_temp_st_wt = top_df[st_wt_col]\n",
    "grangercausalitytests(df_temp_st_wt, 10, verbose = True)\n",
    "\"\"\""
   ]
  },
  {
   "cell_type": "code",
   "execution_count": 28,
   "metadata": {},
   "outputs": [
    {
     "data": {
      "text/plain": [
       "'\\nfrom statsmodels.tsa.stattools import grangercausalitytests\\nhum_col = [\"sense_temp\", \\'sense_hum__quantile__q_0.8\\']\\ndf_temp_hum = top_df[hum_col]\\ngrangercausalitytests(df_temp_hum, 10, verbose = True)\\n'"
      ]
     },
     "execution_count": 28,
     "metadata": {},
     "output_type": "execute_result"
    }
   ],
   "source": [
    "\"\"\"\n",
    "from statsmodels.tsa.stattools import grangercausalitytests\n",
    "hum_col = [\"sense_temp\", 'sense_hum__quantile__q_0.8']\n",
    "df_temp_hum = top_df[hum_col]\n",
    "grangercausalitytests(df_temp_hum, 10, verbose = True)\n",
    "\"\"\""
   ]
  },
  {
   "cell_type": "code",
   "execution_count": 29,
   "metadata": {},
   "outputs": [
    {
     "data": {
      "text/plain": [
       "'\\nfrom statsmodels.tsa.stattools import grangercausalitytests\\nwt_col = [\"sense_temp\", \\'water_temp_log__abs_energy\\']\\ndf_temp_wt = top_df[wt_col]\\ngrangercausalitytests(df_temp_wt, 10, verbose = True)\\n'"
      ]
     },
     "execution_count": 29,
     "metadata": {},
     "output_type": "execute_result"
    }
   ],
   "source": [
    "\"\"\"\n",
    "from statsmodels.tsa.stattools import grangercausalitytests\n",
    "wt_col = [\"sense_temp\", 'water_temp_log__abs_energy']\n",
    "df_temp_wt = top_df[wt_col]\n",
    "grangercausalitytests(df_temp_wt, 10, verbose = True)\n",
    "\"\"\""
   ]
  },
  {
   "cell_type": "code",
   "execution_count": 30,
   "metadata": {},
   "outputs": [
    {
     "data": {
      "text/plain": [
       "'\\nfrom statsmodels.tsa.stattools import grangercausalitytests\\noh_col = [\"sense_temp\", \\'open_hum__absolute_maximum\\']\\ndf_temp_oh = top_df[oh_col]\\ngrangercausalitytests(df_temp_oh, 10, verbose = True)\\n'"
      ]
     },
     "execution_count": 30,
     "metadata": {},
     "output_type": "execute_result"
    }
   ],
   "source": [
    "\"\"\"\n",
    "from statsmodels.tsa.stattools import grangercausalitytests\n",
    "oh_col = [\"sense_temp\", 'open_hum__absolute_maximum']\n",
    "df_temp_oh = top_df[oh_col]\n",
    "grangercausalitytests(df_temp_oh, 10, verbose = True)\n",
    "\"\"\""
   ]
  },
  {
   "cell_type": "markdown",
   "metadata": {},
   "source": [
    "### Df for Training"
   ]
  },
  {
   "cell_type": "code",
   "execution_count": 31,
   "metadata": {},
   "outputs": [],
   "source": [
    "#According to granger causality test only open_temp, water_temp, sense_hum will be included\n",
    "#final_col = [\"open_temp__sum_values\"]\n",
    "final_col1 = [\"st_wt\", \"sense_hum\"]\n",
    "final_col = [\"open_temp__sum_values\", 'sense_hum__quantile__q_0.8']\n",
    "#final_col = [\"st_wt\", \"open_temp\", 'sense_hum']\n",
    "final_df = pd.concat([y, df_scaled[\"st_wt\"], X[final_col]], axis=1)\n",
    "#final_df = pd.concat([y, df_scaled[final_col]], axis=1)\n"
   ]
  },
  {
   "cell_type": "markdown",
   "metadata": {},
   "source": [
    "### Split into training and test data"
   ]
  },
  {
   "cell_type": "code",
   "execution_count": 32,
   "metadata": {},
   "outputs": [
    {
     "name": "stdout",
     "output_type": "stream",
     "text": [
      "(532, 4)\n",
      "(60, 4)\n"
     ]
    }
   ],
   "source": [
    "split_index = int(final_df.shape[0] * 0.9)\n",
    "df_train = final_df.iloc[:split_index]\n",
    "df_test= final_df.iloc[split_index:]\n",
    "\n",
    "print(df_train.shape)\n",
    "print(df_test.shape)"
   ]
  },
  {
   "cell_type": "code",
   "execution_count": 33,
   "metadata": {},
   "outputs": [],
   "source": [
    "#Create a timestamp dataset for future plots\n",
    "train_set_timestamp = df_train.index\n",
    "test_set_timestamp = df_test.index"
   ]
  },
  {
   "cell_type": "code",
   "execution_count": 34,
   "metadata": {},
   "outputs": [
    {
     "name": "stdout",
     "output_type": "stream",
     "text": [
      "['sense_temp', 'st_wt', 'open_temp__sum_values', 'sense_hum__quantile__q_0.8']\n"
     ]
    }
   ],
   "source": [
    "#extract required features\n",
    "columns = list(df_train.columns)\n",
    "print(columns)\n",
    "\n",
    "df_train = df_train[columns].astype(float)\n",
    "df_test = df_test[columns].astype(float)"
   ]
  },
  {
   "cell_type": "code",
   "execution_count": 35,
   "metadata": {},
   "outputs": [
    {
     "data": {
      "text/plain": [
       "(532, 4)"
      ]
     },
     "execution_count": 35,
     "metadata": {},
     "output_type": "execute_result"
    }
   ],
   "source": [
    "df_train.shape"
   ]
  },
  {
   "cell_type": "markdown",
   "metadata": {},
   "source": [
    "### Prepare training & testing sets -> 3D shaped\n",
    "Code inspired on Digital Sreeni"
   ]
  },
  {
   "cell_type": "code",
   "execution_count": 36,
   "metadata": {},
   "outputs": [
    {
     "name": "stdout",
     "output_type": "stream",
     "text": [
      "train_x shape == (527, 5, 4)\n",
      "train_y shape == (527, 1)\n"
     ]
    }
   ],
   "source": [
    "train_X = []\n",
    "train_y = []\n",
    "\n",
    "n_future = 1 #Number of hours (12 = 1 hr) we want to look into the future based on past measures\n",
    "n_past = 5 #Number of past values we want to use to predict the future\n",
    "\n",
    "for i in range(n_past, len(df_train) - n_future + 1):\n",
    "    train_X.append(df_train.iloc[i - n_past:i, :])  # Select all columns using ':'\n",
    "    train_y.append(df_train.iloc[i + n_future - 1:i + n_future, 0])\n",
    "\n",
    "train_X, train_y = np.array(train_X), np.array(train_y)\n",
    "\n",
    "print(\"train_x shape == {}\".format(train_X.shape))\n",
    "print(\"train_y shape == {}\".format(train_y.shape))"
   ]
  },
  {
   "cell_type": "code",
   "execution_count": 37,
   "metadata": {},
   "outputs": [
    {
     "name": "stdout",
     "output_type": "stream",
     "text": [
      "test_x shape == (55, 5, 4)\n"
     ]
    }
   ],
   "source": [
    "test_X = []\n",
    "#test_y = []\n",
    "\n",
    "n_future_test = 1 #Number of hours (12 = 1 hr) we want to look into the future based on past measures\n",
    "n_past_test = 5 #Number of past values we want to use to predict the future\n",
    "\n",
    "for i in range(n_past, len(df_test) - n_future + 1):\n",
    "    test_X.append(df_test.iloc[i - n_past:i, :])  # Select all columns using ':'\n",
    "    #test_y.append(df_test.iloc[i + n_future - 1:i + n_future, 0])\n",
    "\n",
    "test_X = np.array(test_X)\n",
    "#test_y = np.array(test_y)\n",
    "\n",
    "print(\"test_x shape == {}\".format(test_X.shape))\n",
    "#print(\"test_y shape == {}\".format(test_y.shape))"
   ]
  },
  {
   "cell_type": "markdown",
   "metadata": {},
   "source": [
    "### Training the model\n",
    "Code inspired on Digital Sreeni"
   ]
  },
  {
   "cell_type": "code",
   "execution_count": 38,
   "metadata": {},
   "outputs": [
    {
     "name": "stdout",
     "output_type": "stream",
     "text": [
      "Model: \"sequential\"\n",
      "_________________________________________________________________\n",
      " Layer (type)                Output Shape              Param #   \n",
      "=================================================================\n",
      " lstm (LSTM)                 (None, 5, 64)             17664     \n",
      "                                                                 \n",
      " lstm_1 (LSTM)               (None, 32)                12416     \n",
      "                                                                 \n",
      " dropout (Dropout)           (None, 32)                0         \n",
      "                                                                 \n",
      " dense (Dense)               (None, 1)                 33        \n",
      "                                                                 \n",
      "=================================================================\n",
      "Total params: 30113 (117.63 KB)\n",
      "Trainable params: 30113 (117.63 KB)\n",
      "Non-trainable params: 0 (0.00 Byte)\n",
      "_________________________________________________________________\n"
     ]
    },
    {
     "name": "stderr",
     "output_type": "stream",
     "text": [
      "2024-04-01 21:32:16.530880: I external/local_xla/xla/stream_executor/cuda/cuda_executor.cc:901] successful NUMA node read from SysFS had negative value (-1), but there must be at least one NUMA node, so returning NUMA node zero. See more at https://github.com/torvalds/linux/blob/v6.0/Documentation/ABI/testing/sysfs-bus-pci#L344-L355\n",
      "2024-04-01 21:32:16.531092: W tensorflow/core/common_runtime/gpu/gpu_device.cc:2256] Cannot dlopen some GPU libraries. Please make sure the missing libraries mentioned above are installed properly if you would like to use GPU. Follow the guide at https://www.tensorflow.org/install/gpu for how to download and setup the required libraries for your platform.\n",
      "Skipping registering GPU devices...\n"
     ]
    }
   ],
   "source": [
    "model = Sequential()\n",
    "model.add(LSTM(64, activation = \"relu\", input_shape = (train_X.shape[1], train_X.shape[2]), return_sequences= True)) #64 units, input_shape (see above), return_sequences True -> we want this LSTM to return a sequence that will be processed by the next LSTM \n",
    "model.add(LSTM(32, activation= \"relu\", return_sequences= False)) #return_sequence False -> not returning a sequence, it's returning a vector that goes into the Dense Layer\n",
    "model.add(Dropout(0.2))\n",
    "model.add(Dense(train_y.shape[1]))\n",
    "\n",
    "optimizer = Adam(learning_rate=0.001)\n",
    "model.compile(optimizer = optimizer, loss = \"mse\")\n",
    "model.summary()"
   ]
  },
  {
   "cell_type": "code",
   "execution_count": 39,
   "metadata": {},
   "outputs": [
    {
     "name": "stdout",
     "output_type": "stream",
     "text": [
      "Epoch 1/20\n",
      "24/24 [==============================] - 1s 8ms/step - loss: 0.8409 - val_loss: 0.2158\n",
      "Epoch 2/20\n",
      "24/24 [==============================] - 0s 2ms/step - loss: 0.2280 - val_loss: 0.1068\n",
      "Epoch 3/20\n",
      "24/24 [==============================] - 0s 2ms/step - loss: 0.1388 - val_loss: 0.0696\n",
      "Epoch 4/20\n",
      "24/24 [==============================] - 0s 2ms/step - loss: 0.1476 - val_loss: 0.0633\n",
      "Epoch 5/20\n",
      "24/24 [==============================] - 0s 2ms/step - loss: 0.1256 - val_loss: 0.0617\n",
      "Epoch 6/20\n",
      "24/24 [==============================] - 0s 2ms/step - loss: 0.1070 - val_loss: 0.0432\n",
      "Epoch 7/20\n",
      "24/24 [==============================] - 0s 2ms/step - loss: 0.1039 - val_loss: 0.0537\n",
      "Epoch 8/20\n",
      "24/24 [==============================] - 0s 2ms/step - loss: 0.0963 - val_loss: 0.0497\n",
      "Epoch 9/20\n",
      "24/24 [==============================] - 0s 2ms/step - loss: 0.0840 - val_loss: 0.0449\n",
      "Epoch 10/20\n",
      "24/24 [==============================] - 0s 3ms/step - loss: 0.0846 - val_loss: 0.0473\n",
      "Epoch 11/20\n",
      "24/24 [==============================] - 0s 3ms/step - loss: 0.0965 - val_loss: 0.0452\n",
      "Epoch 12/20\n",
      "24/24 [==============================] - 0s 2ms/step - loss: 0.0913 - val_loss: 0.0503\n",
      "Epoch 13/20\n",
      "24/24 [==============================] - 0s 3ms/step - loss: 0.0786 - val_loss: 0.0457\n",
      "Epoch 14/20\n",
      "24/24 [==============================] - 0s 2ms/step - loss: 0.0814 - val_loss: 0.0382\n",
      "Epoch 15/20\n",
      "24/24 [==============================] - 0s 2ms/step - loss: 0.0746 - val_loss: 0.0399\n",
      "Epoch 16/20\n",
      "24/24 [==============================] - 0s 2ms/step - loss: 0.0766 - val_loss: 0.0417\n",
      "Epoch 17/20\n",
      "24/24 [==============================] - 0s 2ms/step - loss: 0.0747 - val_loss: 0.0363\n",
      "Epoch 18/20\n",
      "24/24 [==============================] - 0s 2ms/step - loss: 0.0779 - val_loss: 0.0274\n",
      "Epoch 19/20\n",
      "24/24 [==============================] - 0s 2ms/step - loss: 0.0719 - val_loss: 0.0255\n",
      "Epoch 20/20\n",
      "24/24 [==============================] - 0s 2ms/step - loss: 0.0655 - val_loss: 0.0274\n"
     ]
    }
   ],
   "source": [
    "#fit the model \n",
    "history = model.fit(train_X, train_y, epochs=20, batch_size=20, validation_split= 0.1, verbose=1)"
   ]
  },
  {
   "cell_type": "code",
   "execution_count": 40,
   "metadata": {},
   "outputs": [
    {
     "data": {
      "text/plain": [
       "<matplotlib.legend.Legend at 0x7e5389eb2c80>"
      ]
     },
     "execution_count": 40,
     "metadata": {},
     "output_type": "execute_result"
    },
    {
     "data": {
      "image/png": "[encoded data removed]",
      "text/plain": [
       "<Figure size 640x480 with 1 Axes>"
      ]
     },
     "metadata": {},
     "output_type": "display_data"
    }
   ],
   "source": [
    "plt.plot(history.history[\"loss\"], label = \"Training Loss\")\n",
    "plt.plot(history.history[\"val_loss\"], label = \"Validation Loss\")\n",
    "plt.legend()"
   ]
  },
  {
   "cell_type": "markdown",
   "metadata": {},
   "source": [
    "### Forecasting\n",
    "Code inspired on Digital Sreeni"
   ]
  },
  {
   "cell_type": "code",
   "execution_count": 41,
   "metadata": {},
   "outputs": [
    {
     "name": "stdout",
     "output_type": "stream",
     "text": [
      "[Timestamp('2024-03-04 01:09:13'), Timestamp('2024-03-04 01:14:13'), Timestamp('2024-03-04 01:19:13'), Timestamp('2024-03-04 01:24:13'), Timestamp('2024-03-04 01:29:13'), Timestamp('2024-03-04 01:34:13'), Timestamp('2024-03-04 01:39:13'), Timestamp('2024-03-04 01:44:13'), Timestamp('2024-03-04 01:49:13'), Timestamp('2024-03-04 01:54:13'), Timestamp('2024-03-04 01:59:13'), Timestamp('2024-03-04 02:04:13'), Timestamp('2024-03-04 02:09:13'), Timestamp('2024-03-04 02:14:13'), Timestamp('2024-03-04 02:19:13'), Timestamp('2024-03-04 02:24:13'), Timestamp('2024-03-04 02:29:13'), Timestamp('2024-03-04 02:34:13'), Timestamp('2024-03-04 02:39:13'), Timestamp('2024-03-04 02:44:13'), Timestamp('2024-03-04 02:49:13'), Timestamp('2024-03-04 02:54:13'), Timestamp('2024-03-04 02:59:13'), Timestamp('2024-03-04 03:04:13'), Timestamp('2024-03-04 03:09:13'), Timestamp('2024-03-04 03:14:13'), Timestamp('2024-03-04 03:19:13'), Timestamp('2024-03-04 03:24:13'), Timestamp('2024-03-04 03:29:13'), Timestamp('2024-03-04 03:34:13'), Timestamp('2024-03-04 03:39:13'), Timestamp('2024-03-04 03:44:13'), Timestamp('2024-03-04 03:49:13'), Timestamp('2024-03-04 03:54:13'), Timestamp('2024-03-04 03:59:13'), Timestamp('2024-03-04 04:04:13'), Timestamp('2024-03-04 04:09:13'), Timestamp('2024-03-04 04:14:13'), Timestamp('2024-03-04 04:19:13'), Timestamp('2024-03-04 04:24:13'), Timestamp('2024-03-04 04:29:13'), Timestamp('2024-03-04 04:34:13'), Timestamp('2024-03-04 04:39:13'), Timestamp('2024-03-04 04:44:13'), Timestamp('2024-03-04 04:49:13'), Timestamp('2024-03-04 04:54:13'), Timestamp('2024-03-04 04:59:13'), Timestamp('2024-03-04 05:04:13'), Timestamp('2024-03-04 05:09:13'), Timestamp('2024-03-04 05:14:13'), Timestamp('2024-03-04 05:19:13'), Timestamp('2024-03-04 05:24:13'), Timestamp('2024-03-04 05:29:13'), Timestamp('2024-03-04 05:34:13'), Timestamp('2024-03-04 05:39:13'), Timestamp('2024-03-04 05:44:13'), Timestamp('2024-03-04 05:49:13'), Timestamp('2024-03-04 05:54:13'), Timestamp('2024-03-04 05:59:13'), Timestamp('2024-03-04 06:04:13')]\n"
     ]
    }
   ],
   "source": [
    "periods = 1\n",
    "forecast_period = pd.date_range(list(train_set_timestamp)[-1], periods=len(test_set_timestamp), freq=\"5min\").tolist()\n",
    "print(forecast_period)"
   ]
  },
  {
   "cell_type": "code",
   "execution_count": 42,
   "metadata": {},
   "outputs": [
    {
     "name": "stdout",
     "output_type": "stream",
     "text": [
      "2/2 [==============================] - 0s 2ms/step\n"
     ]
    }
   ],
   "source": [
    "forecast = model.predict(test_X)"
   ]
  },
  {
   "cell_type": "code",
   "execution_count": 43,
   "metadata": {},
   "outputs": [],
   "source": [
    "#inverse_transform to turn predictions into temperature values\n",
    "#for the function inverse_transform to function properly it must receive as input the same number\n",
    "#of variables it was given to scale. Thus, we sill replicate our forecast the number of times of the shape\n",
    "#of test_data\n",
    "forecast_copies = np.repeat(forecast, df_diff.shape[1], axis = -1)\n",
    "y_pred_future = scaler.inverse_transform(forecast_copies)[:, 0]\n",
    "\n",
    "#last real value of train set\n",
    "last_index_position = df_train.index[-1]\n",
    "y_pred_real = y_pred_future.cumsum() + df_rolled[\"sense_temp\"][last_index_position]"
   ]
  },
  {
   "cell_type": "code",
   "execution_count": 44,
   "metadata": {},
   "outputs": [],
   "source": [
    "#\n",
    "#test_uns = scaler.inverse_transform(test_copies)[:, 0]\n",
    "#\n",
    "##last real value of train set\n",
    "#last_index_position = df_train.index[-1]\n",
    "#y_pred_real = y_pred_future.cumsum() + df_rolled[\"sense_temp\"][last_index_position]"
   ]
  },
  {
   "cell_type": "code",
   "execution_count": 45,
   "metadata": {},
   "outputs": [],
   "source": [
    "forecast_timestamp = []\n",
    "for time_i in forecast_period:\n",
    "    forecast_timestamp.append(time_i)"
   ]
  },
  {
   "cell_type": "code",
   "execution_count": 46,
   "metadata": {},
   "outputs": [],
   "source": [
    "df_forecast = pd.DataFrame({\"sense_temp\": y_pred_real}, index=df_test.index[5:])\n",
    "df_forecast.index = pd.to_datetime(df_forecast.index)\n",
    "\n",
    "\n",
    "original = pd.DataFrame(df_rolled[\"sense_temp\"][df_test.index[5:]], index=df_test.index[5:])\n",
    "original.index = pd.to_datetime(original.index)"
   ]
  },
  {
   "cell_type": "code",
   "execution_count": 47,
   "metadata": {},
   "outputs": [
    {
     "data": {
      "image/png": "[encoded data removed]",
      "text/plain": [
       "<Figure size 640x480 with 1 Axes>"
      ]
     },
     "metadata": {},
     "output_type": "display_data"
    }
   ],
   "source": [
    "sns.lineplot(data = original, x = original.index, y = \"sense_temp\", label = \"Original\")\n",
    "sns.lineplot(data = df_forecast, x = df_forecast.index, y = \"sense_temp\", label = \"Predictions\")\n",
    "plt.xticks(rotation = 90)\n",
    "plt.legend()\n",
    "plt.show()"
   ]
  },
  {
   "cell_type": "code",
   "execution_count": 48,
   "metadata": {},
   "outputs": [
    {
     "data": {
      "text/html": [
       "<div>\n",
       "<style scoped>\n",
       "    .dataframe tbody tr th:only-of-type {\n",
       "        vertical-align: middle;\n",
       "    }\n",
       "\n",
       "    .dataframe tbody tr th {\n",
       "        vertical-align: top;\n",
       "    }\n",
       "\n",
       "    .dataframe thead th {\n",
       "        text-align: right;\n",
       "    }\n",
       "</style>\n",
       "<table border=\"1\" class=\"dataframe\">\n",
       "  <thead>\n",
       "    <tr style=\"text-align: right;\">\n",
       "      <th></th>\n",
       "      <th>sense_temp</th>\n",
       "    </tr>\n",
       "  </thead>\n",
       "  <tbody>\n",
       "    <tr>\n",
       "      <th>2024-03-04 03:27:07</th>\n",
       "      <td>21.320</td>\n",
       "    </tr>\n",
       "    <tr>\n",
       "      <th>2024-03-04 03:57:46</th>\n",
       "      <td>21.320</td>\n",
       "    </tr>\n",
       "    <tr>\n",
       "      <th>2024-03-04 04:28:24</th>\n",
       "      <td>21.330</td>\n",
       "    </tr>\n",
       "    <tr>\n",
       "      <th>2024-03-04 04:59:03</th>\n",
       "      <td>21.350</td>\n",
       "    </tr>\n",
       "    <tr>\n",
       "      <th>2024-03-04 05:29:42</th>\n",
       "      <td>21.375</td>\n",
       "    </tr>\n",
       "  </tbody>\n",
       "</table>\n",
       "</div>"
      ],
      "text/plain": [
       "                     sense_temp\n",
       "2024-03-04 03:27:07      21.320\n",
       "2024-03-04 03:57:46      21.320\n",
       "2024-03-04 04:28:24      21.330\n",
       "2024-03-04 04:59:03      21.350\n",
       "2024-03-04 05:29:42      21.375"
      ]
     },
     "metadata": {},
     "output_type": "display_data"
    },
    {
     "data": {
      "text/html": [
       "<div>\n",
       "<style scoped>\n",
       "    .dataframe tbody tr th:only-of-type {\n",
       "        vertical-align: middle;\n",
       "    }\n",
       "\n",
       "    .dataframe tbody tr th {\n",
       "        vertical-align: top;\n",
       "    }\n",
       "\n",
       "    .dataframe thead th {\n",
       "        text-align: right;\n",
       "    }\n",
       "</style>\n",
       "<table border=\"1\" class=\"dataframe\">\n",
       "  <thead>\n",
       "    <tr style=\"text-align: right;\">\n",
       "      <th></th>\n",
       "      <th>sense_temp</th>\n",
       "    </tr>\n",
       "  </thead>\n",
       "  <tbody>\n",
       "    <tr>\n",
       "      <th>2024-03-04 03:27:07</th>\n",
       "      <td>21.482718</td>\n",
       "    </tr>\n",
       "    <tr>\n",
       "      <th>2024-03-04 03:57:46</th>\n",
       "      <td>21.477814</td>\n",
       "    </tr>\n",
       "    <tr>\n",
       "      <th>2024-03-04 04:28:24</th>\n",
       "      <td>21.482525</td>\n",
       "    </tr>\n",
       "    <tr>\n",
       "      <th>2024-03-04 04:59:03</th>\n",
       "      <td>21.498014</td>\n",
       "    </tr>\n",
       "    <tr>\n",
       "      <th>2024-03-04 05:29:42</th>\n",
       "      <td>21.523520</td>\n",
       "    </tr>\n",
       "  </tbody>\n",
       "</table>\n",
       "</div>"
      ],
      "text/plain": [
       "                     sense_temp\n",
       "2024-03-04 03:27:07   21.482718\n",
       "2024-03-04 03:57:46   21.477814\n",
       "2024-03-04 04:28:24   21.482525\n",
       "2024-03-04 04:59:03   21.498014\n",
       "2024-03-04 05:29:42   21.523520"
      ]
     },
     "metadata": {},
     "output_type": "display_data"
    }
   ],
   "source": [
    "display(original.head())\n",
    "display(df_forecast.head())"
   ]
  },
  {
   "cell_type": "code",
   "execution_count": 49,
   "metadata": {},
   "outputs": [
    {
     "name": "stdout",
     "output_type": "stream",
     "text": [
      "MSE = 0.011957088424694113\n",
      "RMSE = (0.10934847243877764+0j)\n"
     ]
    }
   ],
   "source": [
    "from sklearn.metrics import mean_squared_error\n",
    "import cmath\n",
    "mse = mean_squared_error(original[\"sense_temp\"], df_forecast[\"sense_temp\"])\n",
    "rmse = cmath.sqrt(mse)\n",
    "print(\"MSE = {}\".format(mse, 2)) \n",
    "print(\"RMSE = {}\".format(rmse, 2)) "
   ]
  },
  {
   "cell_type": "markdown",
   "metadata": {},
   "source": [
    "On average predictions differ 0.13 degrees Cº from true value"
   ]
  },
  {
   "cell_type": "code",
   "execution_count": null,
   "metadata": {},
   "outputs": [],
   "source": [
    "#save model\n",
    "#model.save(\"models_temp/model13_21_01.h5\")"
   ]
  },
  {
   "cell_type": "markdown",
   "metadata": {},
   "source": [
    "### Trial"
   ]
  },
  {
   "cell_type": "code",
   "execution_count": null,
   "metadata": {},
   "outputs": [],
   "source": [
    "from keras.models import load_model\n",
    "\n",
    "df_trial = pd.read_csv(\"/home/fraia/Arduino/Predictive Model/data/trial_data.csv\")\n",
    "\n",
    "df_trial[\"timestamp\"] = pd.to_datetime(df_trial[\"timestamp\"])\n",
    "df_trial = df_trial.set_index(\"timestamp\")\n",
    "\n",
    "drop_col = [\"id\", \"pressure\"]\n",
    "df_trial = df_trial.drop(columns=drop_col)\n",
    "\n",
    "model2 = load_model(\"/home/fraia/Arduino/Predictive Model/LSTM/models_temp/model13_21_01.h5\")\n"
   ]
  },
  {
   "cell_type": "code",
   "execution_count": null,
   "metadata": {},
   "outputs": [],
   "source": [
    "last_index = df_cl.index[-1]\n",
    "df_trial = df_trial.loc[last_index:, ]\n",
    "\n",
    "#Intervals of 30 min - undersampling\n",
    "df_trial = df_trial[::6]"
   ]
  },
  {
   "cell_type": "code",
   "execution_count": null,
   "metadata": {},
   "outputs": [],
   "source": [
    "df_trial"
   ]
  },
  {
   "cell_type": "code",
   "execution_count": null,
   "metadata": {},
   "outputs": [],
   "source": [
    "# Create a Series with new values\n",
    "add_wt = pd.Series([60, 70, 75, 80, 80, 90, 90])\n",
    "\n",
    "# Replace values in the \"water_temp\" column with the values from add_wt\n",
    "df_trial[\"water_temp\"] = add_wt.values"
   ]
  },
  {
   "cell_type": "code",
   "execution_count": null,
   "metadata": {},
   "outputs": [],
   "source": [
    "df_trial_con = df_trial.iloc[1:, ]\n",
    "df_simul = pd.concat([df_cl, df_trial_con], axis=0)\n",
    "\n",
    "df_simul = df_simul.drop(columns=\"pressure\")"
   ]
  },
  {
   "cell_type": "code",
   "execution_count": null,
   "metadata": {},
   "outputs": [],
   "source": [
    "from feature_selection import check_stationarity, scaling, feat_extraction\n",
    "\n",
    "# Rolling window - smoothing data\n",
    "# Detrending with diff\n",
    "df_rolled2 = df_simul.rolling(window = 20).mean().dropna()\n",
    "df_rolled2[\"water_temp_log\"] = np.log(df_rolled2[\"water_temp\"])\n",
    "df_rolled2[\"st_wt\"] = df_rolled2[\"sense_temp\"] * df_rolled2[\"water_temp\"]\n",
    "\n",
    "df_diff2 = df_rolled2.diff().dropna()\n",
    "\n",
    "# Feature Engineering\n",
    "df_stationar2 = check_stationarity(df_diff2)\n",
    "df_scaled2, scaler2 = scaling(df_stationar2)\n",
    "X2, y2= feat_extraction(df_scaled2, target_col=\"sense_temp\")"
   ]
  },
  {
   "cell_type": "code",
   "execution_count": null,
   "metadata": {},
   "outputs": [],
   "source": [
    "df_scaled2 = df_scaled2.set_index(\"timestamp\")"
   ]
  },
  {
   "cell_type": "code",
   "execution_count": null,
   "metadata": {},
   "outputs": [],
   "source": [
    "# Final DF\n",
    "final_col = [\"open_temp__sum_values\"]\n",
    "final_df = pd.concat([y2, df_scaled2[\"st_wt\"], X2[final_col]], axis=1)"
   ]
  },
  {
   "cell_type": "code",
   "execution_count": null,
   "metadata": {},
   "outputs": [],
   "source": [
    "final_df.tail()"
   ]
  },
  {
   "cell_type": "code",
   "execution_count": null,
   "metadata": {},
   "outputs": [],
   "source": [
    "# Initialize empty list to store past predictions\n",
    "predictions = [1.577090]\n",
    "real_predictions = []\n",
    "\n",
    "n_future = 1  # Number of hours (12 = 1 hr) to predict\n",
    "n_past = 5  # Number of past values for initial prediction\n",
    "\n",
    "upper_bound = -8\n",
    "lower_bound = -3\n",
    "counter = 0\n",
    "\n",
    "# Loop for iterative predictions\n",
    "# As long as the counter is smaller than the length of the df from the lower bound onwards do:\n",
    "while counter <= len(final_df.iloc[lower_bound+1:,]):  # Loop through each predicted value\n",
    "    \n",
    "    # Preparing df for predictions ----------------------------------------------------------------------------------------------------------------------------------------------------------------------------------------------------------------------------------------------------\n",
    "    hist_data = final_df.iloc[upper_bound+counter:lower_bound + counter] # Create a df containing all variables with historical values (we don't want the whole df so we slice a small part bounded by upper and lower bounds)\n",
    "    hist_data_df = pd.DataFrame(hist_data) \n",
    "    actual_data = final_df.iloc[lower_bound + counter + 1, 1:] # Extract a row representing present values without including the target varaible \"sense_temp\"\n",
    "    actual_data_df = pd.DataFrame(actual_data).T \n",
    "\n",
    "    prediction_value = predictions[-1] # Take the last value in predictions, which represents the \"present\" value for \"sense_temp\" \n",
    "    if np.ndim(prediction_value) > 1:  # Check if it's a multi-dimensional array\n",
    "        prediction_value = prediction_value.flatten()[-1]\n",
    "    predicted_temp = pd.DataFrame({\"sense_temp\": prediction_value}, index = actual_data_df.index) # Create a df containing the present value for \"sense_temp\", index is the same as the one from the actual_data_df (\"present\" values for the other variables)\n",
    "\n",
    "    new_row = pd.concat([predicted_temp, actual_data_df], axis=1) # Create the row with present values, concatenate sense_temp with present values of other variables\n",
    "    pred_df = pd.concat([hist_data_df, new_row]) # Append new row(present values) to df with historical data \n",
    "    print(pred_df)\n",
    "    \n",
    "    # Shape data into a 3D array for LSTM model----------------------------------------------------------------------------------------------------------------------------------------------------------------------------------------------------------------------------------------\n",
    "    test_X2 = []\n",
    "\n",
    "    for i in range(n_past, len(pred_df) - n_future + 1):\n",
    "        test_X2.append(pred_df.iloc[i - n_past:i, :])\n",
    "    test_X2 = np.array(test_X2)\n",
    "\n",
    "    print(\"shape: {}\".format(test_X2.shape))\n",
    "\n",
    "    # Predictions\n",
    "    forecast2 = model2.predict(test_X2)\n",
    "    predictions.append(forecast2)  # Store the prediction\n",
    "\n",
    "    # Transformation to real values (without scaling and difference)-------------------------------------------------------------------------------------------------------------------------------------------------------------------------------------------------------------------\n",
    "    forecast_copies2 = np.repeat(forecast2, df_diff2.shape[1], axis = -1)\n",
    "    y_pred_future2 = scaler2.inverse_transform(forecast_copies2)[:, 0]\n",
    "\n",
    "    #last real value of train set\n",
    "    if len(real_predictions) == 0:\n",
    "        diff_index = df_simul.index[-3]\n",
    "        diff_value = df_rolled2[\"sense_temp\"][diff_index]\n",
    "    else:\n",
    "        diff_value = real_predictions[-1]\n",
    "\n",
    "    y_pred_real = y_pred_future2.cumsum() + diff_value\n",
    "\n",
    "    # Results --------------------------------------------------------------------------------------------------------------------------------------------------------------------------------------------------------------------------------------------------------------------------\n",
    "    real_predictions.append(y_pred_real)\n",
    "    \n",
    "    print(\"temperature: {0} at time {1}\".format(y_pred_real, actual_data_df.index))\n",
    "    counter += 1\n",
    "\n",
    "print(\"test_x shape after predictions == {}\".format(test_X2.shape))\n",
    "print(\"temperature:\")\n",
    "[print(i, end=' ') for i in real_predictions] "
   ]
  },
  {
   "cell_type": "markdown",
   "metadata": {},
   "source": [
    "### Record Keeping:"
   ]
  },
  {
   "cell_type": "markdown",
   "metadata": {},
   "source": [
    "#### Model: 13\n",
    "- **Variables:** \"sense_temp\", \"st_wt\", \"open_temp__sum_values\"\n",
    "- **Rolling:** rolling(window = 5).mean()\n",
    "- **Lags:** 5\n",
    "- **Hidden layers:** 1 with 64 neurons and 1 with 32\n",
    "- **Activation Function:** RELU\n",
    "- **Learning rate:** 0.001\n",
    "- **RMSE:** 0.24\n",
    "\n",
    "| Input | Output (Mean) | Output (Mean) | Output (Mean) |\n",
    "|-------|---------------|---------------|---------------|\n",
    "| [60, 70, 75, 80, 80, 90, 90] | 21.704067 | 21.77113 | 21.83511 |\n",
    "| [50, 50, 50, 50, 50, 60, 57] | 21.703907 | 21.771793 | 21.839293 |\n",
    "| [35, 35, 35, 36, 36, 37, 40] | 21.703793 | 21.771206 | 21.835903 |\n",
    "| [30, 31, 32, 33, 35, 35, 35] | 21.703646 | 21.770754 | 21.834362 |\n",
    "| [34, 34, 35, 35, 35, 35, 36] | 21.70359 | 21.770805 | 21.834938 |\n",
    "| [30, 30, 30, 31, 32, 32, 32] | 21.703253 | 21.769571 | 21.83221 |\n",
    "| [30, 29, 28, 26, 27, 25, 25] | 21.702013 | 21.767279 | 21.827528 |\n",
    "| [30, 27, 26, 25, 23, 22, 22] | 21.701664 | 21.765833 | 21.824724 |\n",
    "| [20, 20, 21, 22, 21, 20, 19] | 21.700176 | 21.762615 | 21.818823 |\n",
    "\n",
    "#### Model: 12\n",
    "- **Variables:** \"sense_temp\", \"water_temp_log\", \"open_temp__sum_values\", 'sense_hum__quantile__q_0.8'\n",
    "- **Rolling:** rolling(window = 20).mean()\n",
    "- **Lags:** 5\n",
    "- **Hidden layers:** 1 with 64 neurons and 1 with 32\n",
    "- **Activation Function:** RELU\n",
    "- **Learning rate:** 0.001\n",
    "- **RMSE:** 0.21\n",
    "\n",
    "| Input | Output (Mean) | Output (Mean) | Output (Mean) |\n",
    "|-------|---------------|---------------|---------------|\n",
    "| [60, 70, 75, 80, 80, 90, 90] | 21.764786 | 21.936255 | 22.13393 |\n",
    "| [50, 50, 50, 50, 50, 60, 57] | 21.733772 | 21.85097 | 21.995373 |\n",
    "| [35, 35, 35, 36, 36, 37, 40] | 21.709055 | 21.785915 | 21.869068 |\n",
    "| [30, 31, 32, 33, 35, 35, 35] | 21.703152 | 21.772224 | 21.845083 |\n",
    "| [34, 34, 35, 35, 35, 35, 36] | 21.708054 | 21.783344 | 21.863754 |\n",
    "| [30, 30, 30, 31, 32, 32, 32] | 21.70072 | 21.765863 | 21.833595 |\n",
    "| [30, 29, 28, 26, 27, 25, 25] | 21.697824 | 21.758463 | 21.819193 |\n",
    "| [30, 27, 26, 25, 23, 22, 22] | 21.69594 | 21.752842 | 21.808393 |\n",
    "| [20, 20, 21, 22, 21, 20, 19] | 21.692213 | 21.744019 | 21.792473 |\n",
    "\n",
    "#### Model: 11\n",
    "- **Variables:** \"sense_temp\", \"st_wt\", \"open_temp__sum_values\", 'sense_hum__quantile__q_0.8'\n",
    "- **Rolling:** rolling(window = 20).mean()\n",
    "- **Lags:** 5\n",
    "- **Hidden layers:** 1 with 64 neurons and 1 with 32\n",
    "- **Activation Function:** RELU\n",
    "- **Learning rate:** 0.001\n",
    "- **RMSE:** 0.10\n",
    "\n",
    "| Input | Output (Mean) | Output (Mean) | Output (Mean) |\n",
    "|-------|---------------|---------------|---------------|\n",
    "| [60, 70, 75, 80, 80, 90, 90] | 21.77357 | 21.966558 | 22.20211 |\n",
    "| [50, 50, 50, 50, 50, 60, 57] | 21.74708 | 21.883806 | 22.054888 |\n",
    "| [35, 35, 35, 36, 36, 37, 40] | 21.720036 | 21.809212 | 21.906208 |\n",
    "| [30, 31, 32, 33, 35, 35, 35] | 21.71269 | 21.791813 | 21.87478 |\n",
    "| [34, 34, 35, 35, 35, 35, 36] | 21.718748 | 21.80575 | 21.898588 |\n",
    "| [30, 30, 30, 31, 32, 32, 32] | 21.709723 | 21.78401 | 21.859812 |\n",
    "| [30, 29, 28, 26, 27, 25, 25] | 21.705576 | 21.773424 | 21.839891 |\n",
    "| [30, 27, 26, 25, 23, 22, 22] | 21.70246 | 21.765099 | 21.825186 |\n",
    "| [20, 20, 21, 22, 21, 20, 19] | 21.697395 | 21.752861 | 21.803223 |\n",
    "| [20, 19, 18, 17, 16, 16, 16] | 21.693548 | 21.744003 | 21.790922 |                     \n",
    "\n",
    "#### Model: 10\n",
    "- **Variables:** \"sense_temp\", \"water_temp\", \"open_temp__sum_values\", 'sense_hum__quantile__q_0.8'\n",
    "- **Rolling:** rolling(window = 20).mean()\n",
    "- **Lags:** 5\n",
    "- **Hidden layers:** 1 with 64 neurons and 1 with 32\n",
    "- **Activation Function:** RELU\n",
    "- **Learning rate:** 0.001\n",
    "- **RMSE:** 0.15\n",
    "\n",
    "| Input | Output (Mean) | Output (Mean) | Output (Mean) |\n",
    "|-------|---------------|---------------|---------------|\n",
    "| [60, 70, 75, 80, 80, 90, 90] | 21.784746 | 21.944775 | 22.073172 |\n",
    "| [50, 50, 50, 50, 50, 60, 57] | 21.746998 | 21.869518 | 21.997324 |\n",
    "| [35, 35, 35, 36, 36, 37, 40] | 21.714718 | 21.79595 | 21.881897 |\n",
    "| [30, 31, 32, 33, 35, 35, 35] | 21.708353 | 21.781685 | 21.857882 |\n",
    "| [34, 34, 35, 35, 35, 35, 36] | 21.713501 | 21.792883 | 21.87607 |\n",
    "| [30, 30, 30, 31, 32, 32, 32] | 21.705763 | 21.774834 | 21.844976 |\n",
    "| [30, 29, 28, 26, 27, 25, 25] | 21.701904 | 21.764572 | 21.82566 |\n",
    "| [30, 27, 26, 25, 23, 22, 22] | 21.699467 | 21.757494 | 21.812931 |\n",
    "| [20, 20, 21, 22, 21, 20, 19] | 21.693586 | 21.745195 | 21.793629 |\n"
   ]
  },
  {
   "cell_type": "markdown",
   "metadata": {},
   "source": []
  }
 ],
 "metadata": {
  "kernelspec": {
   "display_name": "temppred.env",
   "language": "python",
   "name": "python3"
  },
  "language_info": {
   "codemirror_mode": {
    "name": "ipython",
    "version": 3
   },
   "file_extension": ".py",
   "mimetype": "text/x-python",
   "name": "python",
   "nbconvert_exporter": "python",
   "pygments_lexer": "ipython3",
   "version": "3.10.12"
  }
 },
 "nbformat": 4,
 "nbformat_minor": 2
}
